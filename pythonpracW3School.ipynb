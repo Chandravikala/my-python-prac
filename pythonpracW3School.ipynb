{
 "cells": [
  {
   "cell_type": "code",
   "execution_count": 6,
   "id": "6e412315-9bf6-43f1-b745-95f1e935dc0e",
   "metadata": {},
   "outputs": [
    {
     "name": "stdout",
     "output_type": "stream",
     "text": [
      "red\n",
      "blue\n",
      "white\n"
     ]
    }
   ],
   "source": [
    "x, y, z = \"red\", \"blue\",\"white\"\n",
    "print(x)\n",
    "print(y)\n",
    "print(z)"
   ]
  },
  {
   "cell_type": "code",
   "execution_count": 7,
   "id": "882dccf2-2c6b-45b0-a8df-0144768eb6f5",
   "metadata": {},
   "outputs": [
    {
     "name": "stdout",
     "output_type": "stream",
     "text": [
      "red\n",
      "blue\n",
      "white\n"
     ]
    }
   ],
   "source": [
    "colors = \"red\", \"blue\",\"white\"\n",
    "x,y,z = colors\n",
    "print(x)\n",
    "print(y)\n",
    "print(z)"
   ]
  },
  {
   "cell_type": "code",
   "execution_count": 8,
   "id": "8d3cfcc4-5f51-4ee9-bcd1-e8a3c2c1f345",
   "metadata": {},
   "outputs": [
    {
     "name": "stdout",
     "output_type": "stream",
     "text": [
      "i like red color\n"
     ]
    }
   ],
   "source": [
    "x= \"i\"\n",
    "y= \"like\"\n",
    "z=\"red color\"\n",
    "print(x,y,z)"
   ]
  },
  {
   "cell_type": "code",
   "execution_count": 9,
   "id": "32a2ffb1-0c39-40f1-bd2a-af69f68eb954",
   "metadata": {},
   "outputs": [
    {
     "name": "stdout",
     "output_type": "stream",
     "text": [
      "i like red color\n"
     ]
    }
   ],
   "source": [
    "x= \"i\"\n",
    "y= \"like\"\n",
    "z=\"red color\"\n",
    "print(x,y,z)"
   ]
  },
  {
   "cell_type": "code",
   "execution_count": 11,
   "id": "4cba97d0-9f33-4f71-b331-390261831f9f",
   "metadata": {},
   "outputs": [
    {
     "name": "stdout",
     "output_type": "stream",
     "text": [
      "ilikered color\n"
     ]
    }
   ],
   "source": [
    "print(x+y+z)"
   ]
  },
  {
   "cell_type": "code",
   "execution_count": 14,
   "id": "863b6f43-f289-4e31-8766-7d14a0af0a26",
   "metadata": {},
   "outputs": [
    {
     "name": "stdout",
     "output_type": "stream",
     "text": [
      "python is  easy\n",
      "python  is   awesome\n"
     ]
    }
   ],
   "source": [
    "x = \"awesome\"\n",
    "def myfunc():\n",
    "    x = \"easy\"\n",
    "    print(\"python is \", x)\n",
    "myfunc()\n",
    "print(\"python  is  \", x)"
   ]
  },
  {
   "cell_type": "code",
   "execution_count": 16,
   "id": "6a7cff1d-afa2-4cea-bbf1-1f9ef762945b",
   "metadata": {},
   "outputs": [
    {
     "name": "stdout",
     "output_type": "stream",
     "text": [
      "python hackaton\n"
     ]
    }
   ],
   "source": [
    "def myfunc1():\n",
    "    global x\n",
    "    x = \"hackaton\"\n",
    "myfunc1()\n",
    "print(\"python\", x)"
   ]
  },
  {
   "cell_type": "code",
   "execution_count": 20,
   "id": "518fbd5d-262b-43e0-aeff-2cbb79f93374",
   "metadata": {},
   "outputs": [
    {
     "name": "stdout",
     "output_type": "stream",
     "text": [
      "9\n"
     ]
    }
   ],
   "source": [
    "import random\n",
    "print (random.randrange (1,10))"
   ]
  },
  {
   "cell_type": "code",
   "execution_count": 21,
   "id": "c904ce73-5252-4da0-8ada-cb564bcca560",
   "metadata": {},
   "outputs": [
    {
     "name": "stdout",
     "output_type": "stream",
     "text": [
      "this is python\n",
      "this is python pract\n",
      "\"this is python practice\"\n"
     ]
    }
   ],
   "source": [
    "print(\"this is python\")\n",
    "print('this is python pract')\n",
    "print('\"this is python practice\"')"
   ]
  },
  {
   "cell_type": "code",
   "execution_count": 24,
   "id": "b4cda10c-828c-472f-82e0-797c87a1dd89",
   "metadata": {},
   "outputs": [
    {
     "name": "stdout",
     "output_type": "stream",
     "text": [
      "this is to practice multiple\n",
      "lines python comments secton\n"
     ]
    }
   ],
   "source": [
    "a = '''this is to practice multiple\n",
    "lines python comments secton'''\n",
    "print (a)"
   ]
  },
  {
   "cell_type": "code",
   "execution_count": 35,
   "id": "754420ce-f872-4402-87f6-626aa50735fd",
   "metadata": {
    "scrolled": true
   },
   "outputs": [
    {
     "name": "stdout",
     "output_type": "stream",
     "text": [
      "p\n",
      "y\n",
      "t\n",
      "h\n",
      "o\n",
      "n\n"
     ]
    }
   ],
   "source": [
    "#loop through string\n",
    "for x in \"python\" :\n",
    "  print (x)"
   ]
  },
  {
   "cell_type": "code",
   "execution_count": 30,
   "id": "3f5cfc60-428c-4f23-9b13-92af541713be",
   "metadata": {},
   "outputs": [
    {
     "name": "stdout",
     "output_type": "stream",
     "text": [
      "['empid', 'empname', 'emprole']\n"
     ]
    }
   ],
   "source": [
    "#create list using list() constructor\n",
    "list1 = list((\"empid\", \"empname\", \"emprole\"))\n",
    "print(list1)"
   ]
  },
  {
   "cell_type": "code",
   "execution_count": 34,
   "id": "365570e5-1e2e-4579-a27f-dc3bbecb38dc",
   "metadata": {},
   "outputs": [
    {
     "name": "stdout",
     "output_type": "stream",
     "text": [
      "['orange', 'kiwi']\n"
     ]
    }
   ],
   "source": [
    "# negative indexing ranges\n",
    "thislist = [\"apple\", \"banana\", \"cherry\", \"orange\", \"kiwi\", \"melon\", \"mango\"]\n",
    "print(thislist[-4:-2])"
   ]
  },
  {
   "cell_type": "code",
   "execution_count": 38,
   "id": "0b6d8991-7ad4-4e57-8445-eb4722a5821f",
   "metadata": {},
   "outputs": [
    {
     "name": "stdout",
     "output_type": "stream",
     "text": [
      "['apple', 'blackcurrant', 'watermelon', 'pear', 'orange', 'kiwi', 'mango']\n"
     ]
    }
   ],
   "source": [
    "# more items in replace than the ranges mentioned\n",
    "thislist = [\"apple\", \"banana\", \"cherry\", \"orange\", \"kiwi\", \"mango\"]\n",
    "thislist[1:3] = [\"blackcurrant\", \"watermelon\",\"pear\"]\n",
    "print(thislist)"
   ]
  },
  {
   "cell_type": "code",
   "execution_count": 39,
   "id": "0c67d5a2-e663-4f84-afa3-1593750d3ec2",
   "metadata": {},
   "outputs": [
    {
     "name": "stdout",
     "output_type": "stream",
     "text": [
      "['apple', 'avacado', 'orange', 'kiwi', 'mango']\n"
     ]
    }
   ],
   "source": [
    "# less items in replace than the ranges mentioned\n",
    "thislist1 = [\"apple\", \"banana\", \"cherry\", \"orange\", \"kiwi\", \"mango\"]\n",
    "thislist1[1:3] = [\"avacado\"]\n",
    "print(thislist1)"
   ]
  },
  {
   "cell_type": "code",
   "execution_count": 40,
   "id": "9e0bedfc-7a5d-4f80-bcbe-f22d5e73f82f",
   "metadata": {},
   "outputs": [
    {
     "name": "stdout",
     "output_type": "stream",
     "text": [
      "['apple', 'watermelon']\n"
     ]
    }
   ],
   "source": [
    "thislist = [\"apple\", \"banana\", \"cherry\"]\n",
    "thislist[1:3] = [\"watermelon\"]\n",
    "print(thislist)"
   ]
  },
  {
   "cell_type": "code",
   "execution_count": 41,
   "id": "d541bfe9-a656-4cfc-b4dd-a050e49f8758",
   "metadata": {},
   "outputs": [
    {
     "name": "stdout",
     "output_type": "stream",
     "text": [
      "['apple', 'banana', 'watermelon', 'cherry']\n"
     ]
    }
   ],
   "source": [
    "thislist = [\"apple\", \"banana\", \"cherry\"]\n",
    "thislist.insert(2, \"watermelon\")\n",
    "print(thislist)"
   ]
  },
  {
   "cell_type": "code",
   "execution_count": 42,
   "id": "da69e6a3-f25e-49a9-a692-2cf431c300ae",
   "metadata": {},
   "outputs": [
    {
     "name": "stdout",
     "output_type": "stream",
     "text": [
      "['cherry', 'orange', 'kiwi', 'melon', 'mango']\n"
     ]
    }
   ],
   "source": [
    "thislist = [\"apple\", \"banana\", \"cherry\", \"orange\", \"kiwi\", \"melon\", \"mango\"]\n",
    "print(thislist[2:])"
   ]
  },
  {
   "cell_type": "code",
   "execution_count": 45,
   "id": "4a12e26f-3bc9-421c-8373-c1bee7854645",
   "metadata": {},
   "outputs": [
    {
     "name": "stdout",
     "output_type": "stream",
     "text": [
      "['red', 'blue', 'orange', 'white', 'black', 'yellow', 'purple']\n"
     ]
    }
   ],
   "source": [
    "#adding two lists together\n",
    "list1 = [\"red\", \"blue\", \"orange\", \"white\"]\n",
    "list2 = [\"black\", \"yellow\", \"purple\"]\n",
    "list1.extend(list2)\n",
    "print(list1)"
   ]
  },
  {
   "cell_type": "code",
   "execution_count": 47,
   "id": "63390990-01dc-4893-bf49-0592097f22d7",
   "metadata": {},
   "outputs": [
    {
     "name": "stdout",
     "output_type": "stream",
     "text": [
      "['apple', 'cherry']\n"
     ]
    }
   ],
   "source": [
    "# to remove values using index\n",
    "thislist = [\"apple\", \"banana\", \"cherry\"]\n",
    "thislist.pop(1)\n",
    "print(thislist)"
   ]
  },
  {
   "cell_type": "code",
   "execution_count": 48,
   "id": "3ecedd95-9357-4006-8c01-7805ec93b195",
   "metadata": {},
   "outputs": [
    {
     "name": "stdout",
     "output_type": "stream",
     "text": [
      "['apple', 'banana']\n"
     ]
    }
   ],
   "source": [
    "# to remove the last element - in pop()\n",
    "thislist = [\"apple\", \"banana\", \"cherry\"]\n",
    "thislist.pop()\n",
    "print(thislist)"
   ]
  },
  {
   "cell_type": "code",
   "execution_count": null,
   "id": "e272319b-d2f4-4176-b4a1-3aeeff96454f",
   "metadata": {},
   "outputs": [],
   "source": []
  }
 ],
 "metadata": {
  "kernelspec": {
   "display_name": "Python 3 (ipykernel)",
   "language": "python",
   "name": "python3"
  },
  "language_info": {
   "codemirror_mode": {
    "name": "ipython",
    "version": 3
   },
   "file_extension": ".py",
   "mimetype": "text/x-python",
   "name": "python",
   "nbconvert_exporter": "python",
   "pygments_lexer": "ipython3",
   "version": "3.11.7"
  }
 },
 "nbformat": 4,
 "nbformat_minor": 5
}
